{
 "cells": [
  {
   "cell_type": "code",
   "execution_count": 1,
   "metadata": {},
   "outputs": [
    {
     "data": {
      "text/html": [
       "<div>\n",
       "<style scoped>\n",
       "    .dataframe tbody tr th:only-of-type {\n",
       "        vertical-align: middle;\n",
       "    }\n",
       "\n",
       "    .dataframe tbody tr th {\n",
       "        vertical-align: top;\n",
       "    }\n",
       "\n",
       "    .dataframe thead th {\n",
       "        text-align: right;\n",
       "    }\n",
       "</style>\n",
       "<table border=\"1\" class=\"dataframe\">\n",
       "  <thead>\n",
       "    <tr style=\"text-align: right;\">\n",
       "      <th></th>\n",
       "      <th>open</th>\n",
       "      <th>high</th>\n",
       "      <th>low</th>\n",
       "      <th>close</th>\n",
       "      <th>adjusted close</th>\n",
       "      <th>volume</th>\n",
       "    </tr>\n",
       "  </thead>\n",
       "  <tbody>\n",
       "    <tr>\n",
       "      <th>count</th>\n",
       "      <td>4075.000000</td>\n",
       "      <td>4075.000000</td>\n",
       "      <td>4075.000000</td>\n",
       "      <td>4075.000000</td>\n",
       "      <td>4075.000000</td>\n",
       "      <td>4.075000e+03</td>\n",
       "    </tr>\n",
       "    <tr>\n",
       "      <th>mean</th>\n",
       "      <td>140.651964</td>\n",
       "      <td>141.263862</td>\n",
       "      <td>139.876493</td>\n",
       "      <td>140.653962</td>\n",
       "      <td>140.653962</td>\n",
       "      <td>4.779154e+06</td>\n",
       "    </tr>\n",
       "    <tr>\n",
       "      <th>std</th>\n",
       "      <td>14.259375</td>\n",
       "      <td>15.068083</td>\n",
       "      <td>14.417434</td>\n",
       "      <td>14.267851</td>\n",
       "      <td>14.267851</td>\n",
       "      <td>7.276934e+06</td>\n",
       "    </tr>\n",
       "    <tr>\n",
       "      <th>min</th>\n",
       "      <td>116.395000</td>\n",
       "      <td>117.140000</td>\n",
       "      <td>63.572000</td>\n",
       "      <td>114.539890</td>\n",
       "      <td>114.539890</td>\n",
       "      <td>0.000000e+00</td>\n",
       "    </tr>\n",
       "    <tr>\n",
       "      <th>25%</th>\n",
       "      <td>128.855000</td>\n",
       "      <td>129.215003</td>\n",
       "      <td>128.070000</td>\n",
       "      <td>128.895000</td>\n",
       "      <td>128.895000</td>\n",
       "      <td>0.000000e+00</td>\n",
       "    </tr>\n",
       "    <tr>\n",
       "      <th>50%</th>\n",
       "      <td>140.310000</td>\n",
       "      <td>141.279999</td>\n",
       "      <td>139.070000</td>\n",
       "      <td>140.330000</td>\n",
       "      <td>140.330000</td>\n",
       "      <td>0.000000e+00</td>\n",
       "    </tr>\n",
       "    <tr>\n",
       "      <th>75%</th>\n",
       "      <td>148.720001</td>\n",
       "      <td>149.047499</td>\n",
       "      <td>148.330000</td>\n",
       "      <td>148.713698</td>\n",
       "      <td>148.713698</td>\n",
       "      <td>8.186920e+06</td>\n",
       "    </tr>\n",
       "    <tr>\n",
       "      <th>max</th>\n",
       "      <td>181.880100</td>\n",
       "      <td>438.440000</td>\n",
       "      <td>181.310000</td>\n",
       "      <td>181.880000</td>\n",
       "      <td>181.880000</td>\n",
       "      <td>5.563519e+07</td>\n",
       "    </tr>\n",
       "  </tbody>\n",
       "</table>\n",
       "</div>"
      ],
      "text/plain": [
       "              open         high          low        close  adjusted close  \\\n",
       "count  4075.000000  4075.000000  4075.000000  4075.000000     4075.000000   \n",
       "mean    140.651964   141.263862   139.876493   140.653962      140.653962   \n",
       "std      14.259375    15.068083    14.417434    14.267851       14.267851   \n",
       "min     116.395000   117.140000    63.572000   114.539890      114.539890   \n",
       "25%     128.855000   129.215003   128.070000   128.895000      128.895000   \n",
       "50%     140.310000   141.279999   139.070000   140.330000      140.330000   \n",
       "75%     148.720001   149.047499   148.330000   148.713698      148.713698   \n",
       "max     181.880100   438.440000   181.310000   181.880000      181.880000   \n",
       "\n",
       "             volume  \n",
       "count  4.075000e+03  \n",
       "mean   4.779154e+06  \n",
       "std    7.276934e+06  \n",
       "min    0.000000e+00  \n",
       "25%    0.000000e+00  \n",
       "50%    0.000000e+00  \n",
       "75%    8.186920e+06  \n",
       "max    5.563519e+07  "
      ]
     },
     "execution_count": 1,
     "metadata": {},
     "output_type": "execute_result"
    }
   ],
   "source": [
    "import pandas as pd\n",
    "d = pd.read_csv(\"data/AAPL.csv\")\n",
    "d.describe()"
   ]
  },
  {
   "cell_type": "code",
   "execution_count": 2,
   "metadata": {},
   "outputs": [
    {
     "data": {
      "text/plain": [
       "ticker             object\n",
       "name               object\n",
       "date               object\n",
       "open              float64\n",
       "high              float64\n",
       "low               float64\n",
       "close             float64\n",
       "adjusted close    float64\n",
       "volume              int64\n",
       "dtype: object"
      ]
     },
     "execution_count": 2,
     "metadata": {},
     "output_type": "execute_result"
    }
   ],
   "source": [
    "d.dtypes"
   ]
  },
  {
   "cell_type": "code",
   "execution_count": 3,
   "metadata": {},
   "outputs": [],
   "source": [
    "d[\"ticker\"] = d['ticker'].astype(\"str\")"
   ]
  },
  {
   "cell_type": "code",
   "execution_count": 4,
   "metadata": {},
   "outputs": [
    {
     "data": {
      "text/plain": [
       "ticker             object\n",
       "name               object\n",
       "date               object\n",
       "open              float64\n",
       "high              float64\n",
       "low               float64\n",
       "close             float64\n",
       "adjusted close    float64\n",
       "volume              int64\n",
       "dtype: object"
      ]
     },
     "execution_count": 4,
     "metadata": {},
     "output_type": "execute_result"
    }
   ],
   "source": [
    "d.dtypes"
   ]
  },
  {
   "cell_type": "code",
   "execution_count": 9,
   "metadata": {},
   "outputs": [
    {
     "data": {
      "text/plain": [
       "0       2021-01-04 04:00:00-05:00\n",
       "1       2021-01-04 05:00:00-05:00\n",
       "2       2021-01-04 06:00:00-05:00\n",
       "3       2021-01-04 07:00:00-05:00\n",
       "4       2021-01-04 08:00:00-05:00\n",
       "                  ...            \n",
       "4070    2021-12-30 13:30:00-05:00\n",
       "4071    2021-12-30 14:30:00-05:00\n",
       "4072    2021-12-30 15:30:00-05:00\n",
       "4073    2021-12-30 16:00:00-05:00\n",
       "4074    2021-12-30 17:00:00-05:00\n",
       "Name: date, Length: 4075, dtype: object"
      ]
     },
     "execution_count": 9,
     "metadata": {},
     "output_type": "execute_result"
    }
   ],
   "source": [
    "d[\"date\"]"
   ]
  },
  {
   "cell_type": "code",
   "execution_count": 13,
   "metadata": {},
   "outputs": [
    {
     "data": {
      "text/plain": [
       "0       01\n",
       "1       01\n",
       "2       01\n",
       "3       01\n",
       "4       01\n",
       "        ..\n",
       "4070    12\n",
       "4071    12\n",
       "4072    12\n",
       "4073    12\n",
       "4074    12\n",
       "Name: time_test, Length: 4075, dtype: object"
      ]
     },
     "execution_count": 13,
     "metadata": {},
     "output_type": "execute_result"
    }
   ],
   "source": [
    "d[\"time_test\"] = [v[1][:2] for v in d[\"date\"].str.split('-')]\n",
    "d[\"time_test\"]"
   ]
  },
  {
   "cell_type": "code",
   "execution_count": 15,
   "metadata": {},
   "outputs": [
    {
     "data": {
      "text/plain": [
       "0       04:00:00-05:00\n",
       "1       05:00:00-05:00\n",
       "2       06:00:00-05:00\n",
       "3       07:00:00-05:00\n",
       "4       08:00:00-05:00\n",
       "             ...      \n",
       "4070    13:30:00-05:00\n",
       "4071    14:30:00-05:00\n",
       "4072    15:30:00-05:00\n",
       "4073    16:00:00-05:00\n",
       "4074    17:00:00-05:00\n",
       "Name: date, Length: 4075, dtype: object"
      ]
     },
     "execution_count": 15,
     "metadata": {},
     "output_type": "execute_result"
    }
   ],
   "source": [
    "d[\"date\"].str.split(' ').str[1].astype(str)"
   ]
  },
  {
   "cell_type": "code",
   "execution_count": null,
   "metadata": {},
   "outputs": [],
   "source": []
  }
 ],
 "metadata": {
  "kernelspec": {
   "display_name": "base",
   "language": "python",
   "name": "python3"
  },
  "language_info": {
   "codemirror_mode": {
    "name": "ipython",
    "version": 3
   },
   "file_extension": ".py",
   "mimetype": "text/x-python",
   "name": "python",
   "nbconvert_exporter": "python",
   "pygments_lexer": "ipython3",
   "version": "3.9.17"
  },
  "orig_nbformat": 4
 },
 "nbformat": 4,
 "nbformat_minor": 2
}
